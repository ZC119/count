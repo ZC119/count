{
 "cells": [
  {
   "cell_type": "markdown",
   "metadata": {},
   "source": [
    "# 统计标记类型dot，bbox数目"
   ]
  },
  {
   "cell_type": "code",
   "execution_count": 1,
   "metadata": {},
   "outputs": [],
   "source": [
    "import json"
   ]
  },
  {
   "cell_type": "code",
   "execution_count": 2,
   "metadata": {},
   "outputs": [
    {
     "name": "stdout",
     "output_type": "stream",
     "text": [
      "dict_keys(['info', 'annotations', 'split', 'stage'])\n"
     ]
    }
   ],
   "source": [
    "json_path = './baidu_star_2018_train_stage1_new/baidu_star_2018/annotation/annotation_train_stage1.json'\n",
    "\n",
    "with open(json_path) as f:\n",
    "    load_dict = json.load(f)\n",
    "    print(load_dict.keys())"
   ]
  },
  {
   "cell_type": "code",
   "execution_count": 3,
   "metadata": {},
   "outputs": [
    {
     "data": {
      "text/plain": [
       "3618"
      ]
     },
     "execution_count": 3,
     "metadata": {},
     "output_type": "execute_result"
    }
   ],
   "source": [
    "len(load_dict['annotations'])"
   ]
  },
  {
   "cell_type": "code",
   "execution_count": 4,
   "metadata": {},
   "outputs": [
    {
     "data": {
      "text/plain": [
       "{'annotation': [{'x': 138, 'y': 298},\n",
       "  {'x': 505, 'y': 345},\n",
       "  {'x': 536, 'y': 177},\n",
       "  {'x': 498, 'y': 153},\n",
       "  {'x': 467, 'y': 165},\n",
       "  {'x': 270, 'y': 121},\n",
       "  {'x': 227, 'y': 179},\n",
       "  {'x': 146, 'y': 166},\n",
       "  {'x': 215, 'y': 217},\n",
       "  {'x': 120, 'y': 188},\n",
       "  {'x': 110, 'y': 221},\n",
       "  {'x': 94, 'y': 235},\n",
       "  {'x': 65, 'y': 266}],\n",
       " 'id': 0,\n",
       " 'ignore_region': [],\n",
       " 'name': 'stage1/train/e6bc4d3e343ce1d6b01b947f7630c506.png',\n",
       " 'num': 13,\n",
       " 'type': 'dot'}"
      ]
     },
     "execution_count": 4,
     "metadata": {},
     "output_type": "execute_result"
    }
   ],
   "source": [
    "load_dict['annotations'][0]"
   ]
  },
  {
   "cell_type": "code",
   "execution_count": 5,
   "metadata": {},
   "outputs": [],
   "source": [
    "num_dot = 0\n",
    "num_bbox = 0\n",
    "\n",
    "for i in range(len(load_dict['annotations'])):\n",
    "    if load_dict['annotations'][i]['type'] == 'dot':\n",
    "        num_dot += 1\n",
    "    else:\n",
    "        num_bbox += 1"
   ]
  },
  {
   "cell_type": "code",
   "execution_count": 6,
   "metadata": {},
   "outputs": [
    {
     "name": "stdout",
     "output_type": "stream",
     "text": [
      "1399\n",
      "2219\n"
     ]
    }
   ],
   "source": [
    "print(num_dot)\n",
    "print(num_bbox)"
   ]
  },
  {
   "cell_type": "markdown",
   "metadata": {},
   "source": [
    "# 显示图片"
   ]
  },
  {
   "cell_type": "code",
   "execution_count": 7,
   "metadata": {},
   "outputs": [],
   "source": [
    "import cv2\n",
    "import os\n",
    "import shutil"
   ]
  },
  {
   "cell_type": "code",
   "execution_count": 8,
   "metadata": {},
   "outputs": [],
   "source": [
    "image_path = './baidu_star_2018_train_stage1_new/baidu_star_2018/image/'"
   ]
  },
  {
   "cell_type": "code",
   "execution_count": 9,
   "metadata": {},
   "outputs": [
    {
     "name": "stdout",
     "output_type": "stream",
     "text": [
      "[{'y': 298, 'x': 138}, {'y': 345, 'x': 505}, {'y': 177, 'x': 536}, {'y': 153, 'x': 498}, {'y': 165, 'x': 467}, {'y': 121, 'x': 270}, {'y': 179, 'x': 227}, {'y': 166, 'x': 146}, {'y': 217, 'x': 215}, {'y': 188, 'x': 120}, {'y': 221, 'x': 110}, {'y': 235, 'x': 94}, {'y': 266, 'x': 65}]\n"
     ]
    }
   ],
   "source": [
    "file = os.path.join(image_path, load_dict['annotations'][0]['name'])\n",
    "\n",
    "annotation = load_dict['annotations'][0]['annotation']\n",
    "\n",
    "print(annotation)"
   ]
  },
  {
   "cell_type": "code",
   "execution_count": 10,
   "metadata": {},
   "outputs": [],
   "source": [
    "im = cv2.imread(file)\n",
    "\n",
    "for anno in annotation:\n",
    "    x, y = anno['x'], anno['y']\n",
    "    cv2.circle(im, (x, y), 5, (0, 255, 255), -1)\n",
    "\n",
    "cv2.imshow(\"1\", im)\n",
    "cv2.waitKey(0)\n",
    "cv2.destroyAllWindows()"
   ]
  },
  {
   "cell_type": "markdown",
   "metadata": {},
   "source": [
    "# 先处理dot类型标签"
   ]
  },
  {
   "cell_type": "code",
   "execution_count": 12,
   "metadata": {
    "collapsed": true
   },
   "outputs": [],
   "source": [
    "os.mkdir('./baidu_star_2018_train_stage1_new/baidu_star_2018/dot')\n",
    "for i in range(len(load_dict['annotations'])):\n",
    "    if load_dict['annotations'][i]['type'] == 'dot':\n",
    "        annotation = load_dict['annotations'][i]['annotation']\n",
    "        file_name = os.path.basename(load_dict['annotations'][i]['name']).split('.')[0] + '.txt'\n",
    "        \n",
    "        \n",
    "        with open(os.path.join('./baidu_star_2018_train_stage1_new/baidu_star_2018/dot', file_name), 'w') as f:\n",
    "            for anno in annotation:\n",
    "                x, y = anno['x'], anno['y']\n",
    "                f.write(str(x) + ' ' + str(y) + '\\n')"
   ]
  },
  {
   "cell_type": "code",
   "execution_count": 13,
   "metadata": {},
   "outputs": [
    {
     "data": {
      "text/plain": [
       "'e6bc4d3e343ce1d6b01b947f7630c506.txt'"
      ]
     },
     "execution_count": 13,
     "metadata": {},
     "output_type": "execute_result"
    }
   ],
   "source": [
    "os.path.basename(load_dict['annotations'][0]['name']).split('.')[0] + '.txt'"
   ]
  },
  {
   "cell_type": "markdown",
   "metadata": {},
   "source": [
    "## 图像移动"
   ]
  },
  {
   "cell_type": "code",
   "execution_count": 16,
   "metadata": {
    "collapsed": true
   },
   "outputs": [],
   "source": [
    "os.mkdir('./baidu_star_2018_train_stage1_new/baidu_star_2018/dot_image')\n",
    "for i in range(len(load_dict['annotations'])):\n",
    "    if load_dict['annotations'][i]['type'] == 'dot':\n",
    "        shutil.copy(os.path.join(image_path, load_dict['annotations'][i]['name']), './baidu_star_2018_train_stage1_new/baidu_star_2018/dot_image/')"
   ]
  },
  {
   "cell_type": "markdown",
   "metadata": {},
   "source": [
    "# 检查测试数据集"
   ]
  },
  {
   "cell_type": "code",
   "execution_count": 1,
   "metadata": {
    "collapsed": true
   },
   "outputs": [],
   "source": [
    "import json"
   ]
  },
  {
   "cell_type": "code",
   "execution_count": 2,
   "metadata": {},
   "outputs": [
    {
     "name": "stdout",
     "output_type": "stream",
     "text": [
      "dict_keys(['info', 'annotations', 'split', 'stage'])\n"
     ]
    }
   ],
   "source": [
    "json_path = './baidu_star_2018_test_stage1/baidu_star_2018/annotation/annotation_test_stage1.json'\n",
    "\n",
    "with open(json_path) as f:\n",
    "    load_dict = json.load(f)\n",
    "    print(load_dict.keys())"
   ]
  },
  {
   "cell_type": "code",
   "execution_count": 3,
   "metadata": {},
   "outputs": [
    {
     "data": {
      "text/plain": [
       "4306"
      ]
     },
     "execution_count": 3,
     "metadata": {},
     "output_type": "execute_result"
    }
   ],
   "source": [
    "len(load_dict['annotations'])"
   ]
  },
  {
   "cell_type": "code",
   "execution_count": 4,
   "metadata": {},
   "outputs": [
    {
     "data": {
      "text/plain": [
       "{'id': 0,\n",
       " 'ignore_region': [],\n",
       " 'name': 'stage1/test/5241f8809280f363dd6c0ab8b82515dc.jpg'}"
      ]
     },
     "execution_count": 4,
     "metadata": {},
     "output_type": "execute_result"
    }
   ],
   "source": [
    "load_dict['annotations'][0]"
   ]
  },
  {
   "cell_type": "code",
   "execution_count": 5,
   "metadata": {
    "collapsed": true
   },
   "outputs": [],
   "source": [
    "import os"
   ]
  },
  {
   "cell_type": "code",
   "execution_count": 6,
   "metadata": {},
   "outputs": [
    {
     "data": {
      "text/plain": [
       "'5241f8809280f363dd6c0ab8b82515dc.jpg'"
      ]
     },
     "execution_count": 6,
     "metadata": {},
     "output_type": "execute_result"
    }
   ],
   "source": [
    "os.path.basename(load_dict['annotations'][0]['name'])"
   ]
  },
  {
   "cell_type": "markdown",
   "metadata": {},
   "source": [
    "# 修改图像名为id"
   ]
  },
  {
   "cell_type": "markdown",
   "metadata": {},
   "source": [
    "## 创建名称-id字典"
   ]
  },
  {
   "cell_type": "code",
   "execution_count": 7,
   "metadata": {
    "collapsed": true
   },
   "outputs": [],
   "source": [
    "dic = {}\n",
    "for i in range(len(load_dict['annotations'])):\n",
    "    key = os.path.basename(load_dict['annotations'][i]['name'])\n",
    "    value = load_dict['annotations'][i]['id']\n",
    "    dic[key] = value"
   ]
  },
  {
   "cell_type": "code",
   "execution_count": 8,
   "metadata": {},
   "outputs": [
    {
     "data": {
      "text/plain": [
       "4306"
      ]
     },
     "execution_count": 8,
     "metadata": {},
     "output_type": "execute_result"
    }
   ],
   "source": [
    "len(dic)"
   ]
  },
  {
   "cell_type": "code",
   "execution_count": 9,
   "metadata": {
    "collapsed": true
   },
   "outputs": [],
   "source": [
    "image_path = './baidu_star_2018_test_stage1/baidu_star_2018/image/stage1/test/'\n",
    "\n",
    "for name, idx in dic.items():\n",
    "    image_path + name\n",
    "    os.rename(image_path + name, image_path + str(idx) + name[-4:])"
   ]
  },
  {
   "cell_type": "markdown",
   "metadata": {},
   "source": [
    "# 处理并移动bbox类型数据"
   ]
  },
  {
   "cell_type": "code",
   "execution_count": 2,
   "metadata": {},
   "outputs": [
    {
     "name": "stdout",
     "output_type": "stream",
     "text": [
      "[u'info', u'stage', u'annotations', u'split']\n",
      "1399\n",
      "2219\n"
     ]
    }
   ],
   "source": [
    "import json\n",
    "\n",
    "json_path = './baidu_star_2018_train_stage1_new/baidu_star_2018/annotation/annotation_train_stage1.json'\n",
    "\n",
    "with open(json_path) as f:\n",
    "    load_dict = json.load(f)\n",
    "    print(load_dict.keys())\n",
    "    \n",
    "num_dot = 0\n",
    "num_bbox = 0\n",
    "\n",
    "for i in range(len(load_dict['annotations'])):\n",
    "    if load_dict['annotations'][i]['type'] == 'dot':\n",
    "        num_dot += 1\n",
    "    else:\n",
    "        num_bbox += 1\n",
    "print(num_dot)\n",
    "print(num_bbox)"
   ]
  },
  {
   "cell_type": "code",
   "execution_count": 3,
   "metadata": {},
   "outputs": [
    {
     "name": "stdout",
     "output_type": "stream",
     "text": [
      "[{u'y': 298, u'x': 138}, {u'y': 345, u'x': 505}, {u'y': 177, u'x': 536}, {u'y': 153, u'x': 498}, {u'y': 165, u'x': 467}, {u'y': 121, u'x': 270}, {u'y': 179, u'x': 227}, {u'y': 166, u'x': 146}, {u'y': 217, u'x': 215}, {u'y': 188, u'x': 120}, {u'y': 221, u'x': 110}, {u'y': 235, u'x': 94}, {u'y': 266, u'x': 65}]\n"
     ]
    }
   ],
   "source": [
    "import os\n",
    "import shutil\n",
    "\n",
    "image_path = './baidu_star_2018_train_stage1_new/baidu_star_2018/image/'\n",
    "file = os.path.join(image_path, load_dict['annotations'][0]['name'])\n",
    "\n",
    "annotation = load_dict['annotations'][0]['annotation']\n",
    "\n",
    "print(annotation)"
   ]
  },
  {
   "cell_type": "code",
   "execution_count": 5,
   "metadata": {},
   "outputs": [
    {
     "data": {
      "text/plain": [
       "u'e6bc4d3e343ce1d6b01b947f7630c506.txt'"
      ]
     },
     "execution_count": 5,
     "metadata": {},
     "output_type": "execute_result"
    }
   ],
   "source": [
    "os.mkdir('./baidu_star_2018_train_stage1_new/baidu_star_2018/bbox')\n",
    "for i in range(len(load_dict['annotations'])):\n",
    "    if load_dict['annotations'][i]['type'] == 'bbox':\n",
    "        annotation = load_dict['annotations'][i]['annotation']\n",
    "        file_name = os.path.basename(load_dict['annotations'][i]['name']).split('.')[0] + '.txt'\n",
    "        \n",
    "        \n",
    "        with open(os.path.join('./baidu_star_2018_train_stage1_new/baidu_star_2018/bbox', file_name), 'w') as f:\n",
    "            for anno in annotation:\n",
    "                x, y, h, w= anno['x'], anno['y'], anno['h'], anno['w']\n",
    "                f.write(str(x) + ' ' + str(y) + ' ' + str(x + w) +  ' ' + str(y + h) + '\\n')\n",
    "                \n",
    "os.path.basename(load_dict['annotations'][0]['name']).split('.')[0] + '.txt'"
   ]
  },
  {
   "cell_type": "code",
   "execution_count": 6,
   "metadata": {
    "collapsed": true
   },
   "outputs": [],
   "source": [
    "os.mkdir('./baidu_star_2018_train_stage1_new/baidu_star_2018/bbox_image')\n",
    "for i in range(len(load_dict['annotations'])):\n",
    "    if load_dict['annotations'][i]['type'] == 'bbox':\n",
    "        shutil.copy(os.path.join(image_path, load_dict['annotations'][i]['name']), './baidu_star_2018_train_stage1_new/baidu_star_2018/bbox_image/')"
   ]
  }
 ],
 "metadata": {
  "kernelspec": {
   "display_name": "Python 3",
   "language": "python",
   "name": "python3"
  },
  "language_info": {
   "codemirror_mode": {
    "name": "ipython",
    "version": 3
   },
   "file_extension": ".py",
   "mimetype": "text/x-python",
   "name": "python",
   "nbconvert_exporter": "python",
   "pygments_lexer": "ipython3",
   "version": "3.6.4"
  }
 },
 "nbformat": 4,
 "nbformat_minor": 2
}
